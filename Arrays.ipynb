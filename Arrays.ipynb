{
 "cells": [
  {
   "attachments": {},
   "cell_type": "markdown",
   "metadata": {},
   "source": [
    "# Arrays "
   ]
  },
  {
   "attachments": {},
   "cell_type": "markdown",
   "metadata": {},
   "source": [
    "What is an Array?:\n",
    "- An array is a collection of items that are stored in neighboring memory locations. \n",
    "\n",
    "Accessing Elements: \n",
    "- Writing elements into an array - you use a for loop to iterate and you use index values. \n",
    "- Reading elements from an array - you do not need to use index values and read out each value directly.\n",
    "\n",
    "Basic Array Operations \n",
    "- Insert -> insert at the end, insert at the beginning, insert anywhere \n",
    "- Delete \n",
    "- Search "
   ]
  },
  {
   "attachments": {},
   "cell_type": "markdown",
   "metadata": {},
   "source": [
    "### 1. Max Consecutive Ones \n",
    "- Given a binary array nums, return the maximum number of consecutive 1's in the array.\n",
    "- Input: nums = [1,1,0,1,1,1]\n",
    "- Output: 3\n",
    "- Explanation: The first two digits or the last three digits are consecutive 1s. The maximum number of consecutive 1s is 3.\n"
   ]
  },
  {
   "cell_type": "code",
   "execution_count": 4,
   "metadata": {},
   "outputs": [],
   "source": [
    "def findMaxConsecutiveOnes(nums):\n",
    "    \"\"\" \n",
    "    :type nums: List[int]\n",
    "    :rtype: int   \n",
    "    \"\"\" \n",
    "    maxSum = 0 \n",
    "    curSum = 0\n",
    "\n",
    "    for val in nums:\n",
    "        #if val is 1, start counting\n",
    "        if val:\n",
    "            #Increment the current count of 1's by one. \n",
    "            curSum +=1\n",
    "        else:\n",
    "            #Find the maximum until now. \n",
    "            maxSum = max(maxSum, curSum)\n",
    "            #Reset the current count of 1's to zero. \n",
    "            curSum = 0\n",
    "        #return the maximum between the maxSum until now and most recent curSum (edge case when last value is 1)\n",
    "        return max(maxSum,curSum)"
   ]
  },
  {
   "attachments": {},
   "cell_type": "markdown",
   "metadata": {},
   "source": [
    "### 2. Find Numbers with Even Number of Digits \n",
    "Given an array nums of integers, return how many of them contain an even number of digits.\n",
    "\n",
    "Example 1:\n",
    "\n",
    "- Input: nums = [12,345,2,6,7896]\n",
    "- Output: 2\n",
    "\n",
    "Explanation: \n",
    "- 12 contains 2 digits (even number of digits). \n",
    "- 345 contains 3 digits (odd number of digits). \n",
    "- 2 contains 1 digit (odd number of digits). \n",
    "- 6 contains 1 digit (odd number of digits). \n",
    "- 7896 contains 4 digits (even number of digits). \n",
    "- Therefore only 12 and 7896 contain an even number of digits.\n",
    "\n",
    "Constraints:\n",
    "\n",
    "- 1 <= nums.length <= 500\n",
    "- 1 <= nums[i] <= 105"
   ]
  },
  {
   "cell_type": "code",
   "execution_count": 50,
   "metadata": {},
   "outputs": [],
   "source": [
    "nums = [555,901,482,1771,22,33,10101,1000]\n",
    "\n",
    "#1) Constraint Analysis: we know that the numebrs are 1 <= nums[i] <= 10^5, so we can use this to figure out the ranges that would have even number of digits \n",
    "def numbersEvenDigits(nums):\n",
    "    evenCount = 0 \n",
    "    for num in nums:\n",
    "        if (10**1 <= num < 10**2) or (10**3 <= num < 10**4) or (num==10^5):\n",
    "            evenCount += 1 \n",
    "    return evenCount "
   ]
  },
  {
   "cell_type": "code",
   "execution_count": 70,
   "metadata": {},
   "outputs": [],
   "source": [
    "#2) Extract the number of digits by repeatedly dividing by 10 \n",
    "\n",
    "def countDigits(num):\n",
    "    count = 0 \n",
    "    while num: #not 0 \n",
    "        num = num // 10 #integer division, get the quotient not the remainder\n",
    "        count +=1\n",
    "    return count         \n",
    "\n",
    "def countEvenDigits(nums):\n",
    "    evenCount = 0 \n",
    "    for num in nums:\n",
    "        if countDigits(num) % 2 == 0:\n",
    "            evenCount +=1 \n",
    "    return evenCount"
   ]
  },
  {
   "cell_type": "code",
   "execution_count": 79,
   "metadata": {},
   "outputs": [],
   "source": [
    "#3) Convert each int to string, count number of characters  \n",
    "def findEvenDigitNums(nums):\n",
    "    count = 0\n",
    "\n",
    "    for n in nums:\n",
    "        if len(str(n)) & 1:\n",
    "            count +=1\n",
    "    return count "
   ]
  },
  {
   "cell_type": "code",
   "execution_count": 80,
   "metadata": {},
   "outputs": [
    {
     "data": {
      "text/plain": [
       "4"
      ]
     },
     "execution_count": 80,
     "metadata": {},
     "output_type": "execute_result"
    }
   ],
   "source": [
    "#ASIDE: Checking if a number is even\n",
    "# MODULUS: if (val % 2) == 0 --> use modulus to see if remainder when dividing by 2 is equal to 0 \n",
    "# BITWISE &: if (val & 1) == 0 --> since (0 & 1) = 0, and even digits have least significant bit of 0. Bitwise operator &: 0 & 0 = 0, 0 & 1 = 0, 1 & 0 = 0, 1 & 1 = 1"
   ]
  },
  {
   "attachments": {},
   "cell_type": "markdown",
   "metadata": {},
   "source": [
    "### 3. Squares of a Sorted Array\n",
    "\n",
    "- Given an integer array nums sorted in non-decreasing order, return an array of the squares of each number sorted in non-decreasing order.\n",
    "\n",
    "Example 1:\n",
    "- Input: nums = [-4,-1,0,3,10]\n",
    "- Output: [0,1,9,16,100]\n",
    "- Explanation: After squaring, the array becomes [16,1,0,9,100].\n",
    "- After sorting, it becomes [0,1,9,16,100].\n",
    "\n",
    "Constraints:\n",
    "- 1 <= nums.length <= 104\n",
    "- -104 <= nums[i] <= 104\n",
    "- nums is sorted in non-decreasing order.\n",
    " \n",
    "\n",
    "\n"
   ]
  },
  {
   "cell_type": "code",
   "execution_count": 92,
   "metadata": {},
   "outputs": [],
   "source": [
    "nums = [-4,-1,0,3,10]"
   ]
  },
  {
   "cell_type": "code",
   "execution_count": 141,
   "metadata": {},
   "outputs": [],
   "source": [
    "#square and then sort - O(n*log(n))\n",
    "def square_sort(nums):\n",
    "    return sorted([n**2 for n in nums])"
   ]
  },
  {
   "cell_type": "code",
   "execution_count": 151,
   "metadata": {},
   "outputs": [],
   "source": [
    "#two pointer approach - O(n) \n",
    "\n",
    "def sortedSquares(nums):\n",
    "\n",
    "    #preallocate the array storing the result \n",
    "    result = [0] * len(nums)\n",
    "\n",
    "    #initialize two pointers \n",
    "    left_index = 0 \n",
    "    right_index = len(nums) - 1 \n",
    "\n",
    "    #We want decreasing indexing so we can fill the results in reverse positioning from highest to lowest  \n",
    "    for i in range(len(nums))[::-1]:\n",
    "        #Compare left most and right most values, and add the highest square to end of the results array\n",
    "        if abs(nums[right_index]) > abs(nums[left_index]):\n",
    "            result[i] = nums[right_index] ** 2\n",
    "            right_index -= 1 \n",
    "        else:\n",
    "            result[i] = nums[left_index] ** 2\n",
    "            left_index += 1 \n",
    "    return result \n"
   ]
  },
  {
   "cell_type": "code",
   "execution_count": 152,
   "metadata": {},
   "outputs": [
    {
     "data": {
      "text/plain": [
       "[-4, -1, 0, 3, 10]"
      ]
     },
     "execution_count": 152,
     "metadata": {},
     "output_type": "execute_result"
    }
   ],
   "source": [
    "nums"
   ]
  },
  {
   "cell_type": "code",
   "execution_count": 153,
   "metadata": {},
   "outputs": [
    {
     "data": {
      "text/plain": [
       "[0, 1, 9, 16, 100]"
      ]
     },
     "execution_count": 153,
     "metadata": {},
     "output_type": "execute_result"
    }
   ],
   "source": [
    "sortedSquares(nums)"
   ]
  },
  {
   "cell_type": "code",
   "execution_count": 154,
   "metadata": {},
   "outputs": [
    {
     "data": {
      "text/plain": [
       "[0, 1, 9, 16, 100]"
      ]
     },
     "execution_count": 154,
     "metadata": {},
     "output_type": "execute_result"
    }
   ],
   "source": [
    "square_sort(nums)"
   ]
  },
  {
   "cell_type": "code",
   "execution_count": 156,
   "metadata": {},
   "outputs": [
    {
     "data": {
      "text/plain": [
       "[4, 3, 2, 1, 0]"
      ]
     },
     "execution_count": 156,
     "metadata": {},
     "output_type": "execute_result"
    }
   ],
   "source": [
    "list(range(5-1,-1,-1))"
   ]
  },
  {
   "cell_type": "code",
   "execution_count": 160,
   "metadata": {},
   "outputs": [
    {
     "data": {
      "text/plain": [
       "[4, 3, 2, 1, 0]"
      ]
     },
     "execution_count": 160,
     "metadata": {},
     "output_type": "execute_result"
    }
   ],
   "source": [
    "list(range(5)[::-1])"
   ]
  },
  {
   "cell_type": "code",
   "execution_count": null,
   "metadata": {},
   "outputs": [],
   "source": []
  }
 ],
 "metadata": {
  "kernelspec": {
   "display_name": "my_env",
   "language": "python",
   "name": "python3"
  },
  "language_info": {
   "codemirror_mode": {
    "name": "ipython",
    "version": 3
   },
   "file_extension": ".py",
   "mimetype": "text/x-python",
   "name": "python",
   "nbconvert_exporter": "python",
   "pygments_lexer": "ipython3",
   "version": "3.12.1"
  },
  "orig_nbformat": 4
 },
 "nbformat": 4,
 "nbformat_minor": 2
}
